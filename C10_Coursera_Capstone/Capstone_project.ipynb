{
 "cells": [
  {
   "cell_type": "markdown",
   "id": "b578695a-73d4-48e3-8c6f-973eb53bad66",
   "metadata": {},
   "source": [
    "<h1 align=center><font size = 9> Capstone Project</font></h1>"
   ]
  },
  {
   "cell_type": "markdown",
   "id": "999e6bd6-725f-4648-8221-9ec82a960e10",
   "metadata": {},
   "source": [
    "This notebook will be mainly used for the Capstone project purposes"
   ]
  },
  {
   "cell_type": "code",
   "execution_count": 1,
   "id": "fbcd1bcc-dddb-43ad-8ef4-fa2e87214e3c",
   "metadata": {},
   "outputs": [],
   "source": [
    "import pandas as pd\n",
    "import numpy as np"
   ]
  },
  {
   "cell_type": "code",
   "execution_count": 2,
   "id": "4d7919ec-58d4-4519-b40e-b99f7c538a9b",
   "metadata": {},
   "outputs": [
    {
     "name": "stdout",
     "output_type": "stream",
     "text": [
      "Hello Capstone Project Course!\n"
     ]
    }
   ],
   "source": [
    "print(\"Hello Capstone Project Course!\")"
   ]
  },
  {
   "cell_type": "code",
   "execution_count": null,
   "id": "0a68b4c9-bd97-4212-85ab-1686d6c2fc2f",
   "metadata": {},
   "outputs": [],
   "source": []
  }
 ],
 "metadata": {
  "kernelspec": {
   "display_name": "data_test1",
   "language": "python",
   "name": "data_test1"
  },
  "language_info": {
   "codemirror_mode": {
    "name": "ipython",
    "version": 3
   },
   "file_extension": ".py",
   "mimetype": "text/x-python",
   "name": "python",
   "nbconvert_exporter": "python",
   "pygments_lexer": "ipython3",
   "version": "3.9.4"
  }
 },
 "nbformat": 4,
 "nbformat_minor": 5
}
